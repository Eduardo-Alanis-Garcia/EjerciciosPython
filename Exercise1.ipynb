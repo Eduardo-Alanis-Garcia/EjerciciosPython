{
  "nbformat": 4,
  "nbformat_minor": 0,
  "metadata": {
    "colab": {
      "provenance": []
    },
    "kernelspec": {
      "name": "python3",
      "display_name": "Python 3"
    },
    "language_info": {
      "name": "python"
    }
  },
  "cells": [
    {
      "cell_type": "code",
      "execution_count": null,
      "metadata": {
        "colab": {
          "base_uri": "https://localhost:8080/"
        },
        "id": "G4MsX4MZxRMf",
        "outputId": "7e328436-1759-45ab-c43b-8c71ef21c4a3"
      },
      "outputs": [
        {
          "output_type": "stream",
          "name": "stdout",
          "text": [
            "The smallest exponent is:  3\n"
          ]
        }
      ],
      "source": [
        "# Exercise 1 #\n",
        "# Usando Python, encuenra el exponente n más pequeño de tal manera que el número complejo (3+4i)^n tenga modulo mayor que 100 #\n",
        "vector = []\n",
        "for i in range (1,100):\n",
        "    m = abs((3+4j)**i)\n",
        "    if m > 100:\n",
        "        vector.append(i)\n",
        "print(\"The smallest exponent is: \", vector[0] )"
      ]
    }
  ]
}