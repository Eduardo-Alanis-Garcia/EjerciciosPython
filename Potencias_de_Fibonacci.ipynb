{
  "nbformat": 4,
  "nbformat_minor": 0,
  "metadata": {
    "colab": {
      "provenance": [],
      "authorship_tag": "ABX9TyNhc9sk0BjKavNl1lnE6kmp",
      "include_colab_link": true
    },
    "kernelspec": {
      "name": "python3",
      "display_name": "Python 3"
    },
    "language_info": {
      "name": "python"
    }
  },
  "cells": [
    {
      "cell_type": "markdown",
      "metadata": {
        "id": "view-in-github",
        "colab_type": "text"
      },
      "source": [
        "<a href=\"https://colab.research.google.com/github/Eduardo-Alanis-Garcia/EjerciciosPython/blob/main/Potencias_de_Fibonacci.ipynb\" target=\"_parent\"><img src=\"https://colab.research.google.com/assets/colab-badge.svg\" alt=\"Open In Colab\"/></a>"
      ]
    },
    {
      "cell_type": "markdown",
      "source": [
        "**Potencias perfectas de Fibonacci**\n",
        "\n",
        "En matemáticas, la sucesión o serie de Fibonacci hace referencia a la secuencia ordenada de números descrita por Leonardo de Pisa:\n",
        "$$\n",
        "0, 1, 1, 2, 3, 5, 8, 13, 21, 34, 55, 89, 144,…\n",
        "$$\n",
        "\n",
        "Se trata de una secuencia infinita de números naturales; a partir del $0$ y el $1$, se van sumando a pares, de manera que cada número es igual a la suma de sus dos anteriores.\n",
        "\n",
        "Apartir de la serie de Fibonacci han surgido bastantes preguntas como ¿Que numeros de Fibonacci son potencias perfectas?\n",
        "\n"
      ],
      "metadata": {
        "id": "BvmmKSjpHE4a"
      }
    },
    {
      "cell_type": "code",
      "source": [
        "from sympy import sqrt\n",
        "\n",
        "def es_potencia(n = 10**(20), k=2):\n",
        "    return int( pow(n,(1/k))) ** k == n\n",
        "\n",
        "def cuadrados_fibonacci(n, k):\n",
        "    fibs = []\n",
        "    a, b = 0, 1\n",
        "    while a < n:\n",
        "        if es_potencia(a, k):\n",
        "            fibs.append(a)\n",
        "        a, b = b, a+b\n",
        "    return fibs\n",
        "\n",
        "\n",
        "\n",
        "cuadrados_fibonacci(10**(20), 4)"
      ],
      "metadata": {
        "id": "hW6sMWFGJXSv"
      },
      "execution_count": null,
      "outputs": []
    },
    {
      "cell_type": "markdown",
      "source": [
        "El codigo anterior responde a dicha pregunta donde unicamente modificas los valores  *cuadrados_fibonacci( Numero hasta donde llegar ,  Potencia )*"
      ],
      "metadata": {
        "id": "L-xU2dSfLLQq"
      }
    }
  ]
}