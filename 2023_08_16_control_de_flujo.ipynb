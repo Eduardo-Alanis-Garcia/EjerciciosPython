{
  "cells": [
    {
      "cell_type": "markdown",
      "metadata": {
        "id": "view-in-github",
        "colab_type": "text"
      },
      "source": [
        "<a href=\"https://colab.research.google.com/github/Eduardo-Alanis-Garcia/EjerciciosPython/blob/main/2023_08_16_control_de_flujo.ipynb\" target=\"_parent\"><img src=\"https://colab.research.google.com/assets/colab-badge.svg\" alt=\"Open In Colab\"/></a>"
      ]
    },
    {
      "cell_type": "markdown",
      "metadata": {
        "id": "-kayTmXtDohZ"
      },
      "source": [
        "Control de flujo\n",
        "================\n",
        "\n",
        "**Date:** 2022-02-03\n",
        "\n"
      ]
    },
    {
      "cell_type": "markdown",
      "metadata": {
        "id": "ECW-qiZ7Dohb"
      },
      "source": [
        "## Control de flujo\n",
        "\n"
      ]
    },
    {
      "cell_type": "markdown",
      "metadata": {
        "id": "KmEbbEmiDohc"
      },
      "source": [
        "### `if`\n",
        "\n"
      ]
    },
    {
      "cell_type": "code",
      "execution_count": 10,
      "metadata": {
        "colab": {
          "base_uri": "https://localhost:8080/"
        },
        "id": "GVMQP6-nDohd",
        "outputId": "a9ed0536-39f9-498e-a9dc-0283a76320a2"
      },
      "outputs": [
        {
          "output_type": "execute_result",
          "data": {
            "text/plain": [
              "['Yadira',\n",
              " 'Alejandro',\n",
              " 'Eduardo',\n",
              " 'Samuel',\n",
              " 'Maria',\n",
              " 'Panfilo',\n",
              " 'Carlos',\n",
              " 'Cesar']"
            ]
          },
          "metadata": {},
          "execution_count": 10
        }
      ],
      "source": [
        "inscritos = [\"Yadira\", \"Alejandro\", \"Eduardo\", \"Samuel\", \"Maria\", \"Panfilo\"]\n",
        "oyentes = [\"Carlos\", \"Cesar\"]\n",
        "estudiantes = inscritos + oyentes\n",
        "estudiantes"
      ]
    },
    {
      "cell_type": "code",
      "execution_count": 11,
      "metadata": {
        "colab": {
          "base_uri": "https://localhost:8080/"
        },
        "id": "SgxW6uapDohf",
        "outputId": "9428a270-1b2e-499b-ea05-4f38e0e04f39"
      },
      "outputs": [
        {
          "output_type": "stream",
          "name": "stdout",
          "text": [
            "Son muchos estudiantes\n"
          ]
        }
      ],
      "source": [
        "if len(estudiantes) > 5:\n",
        "    print(\"Son muchos estudiantes\")"
      ]
    },
    {
      "cell_type": "code",
      "execution_count": 12,
      "metadata": {
        "colab": {
          "base_uri": "https://localhost:8080/"
        },
        "id": "Dief1VUUDohf",
        "outputId": "8e27efed-ab54-478d-fe3e-2d0cfd6fa01f"
      },
      "outputs": [
        {
          "output_type": "stream",
          "name": "stdout",
          "text": [
            "Son muchos estudiantes\n"
          ]
        }
      ],
      "source": [
        "if len(estudiantes) > 5:\n",
        "    print(\"Son muchos estudiantes\")\n",
        "else:\n",
        "    print(\"Son pocos estudiantes\", end=\". \")\n",
        "    print(\"Ojalá entren oyentes\")"
      ]
    },
    {
      "cell_type": "code",
      "execution_count": 13,
      "metadata": {
        "colab": {
          "base_uri": "https://localhost:8080/"
        },
        "id": "U2cpes3LDohg",
        "outputId": "37c3b464-7453-41dc-f056-32ab740f97bd"
      },
      "outputs": [
        {
          "output_type": "stream",
          "name": "stdout",
          "text": [
            "Son seis estudiantes\n"
          ]
        }
      ],
      "source": [
        "if len(inscritos) <= 5:\n",
        "    print(\"Son cuando mucho cinco estudiantes\")\n",
        "elif len(inscritos) == 6:\n",
        "    print(\"Son seis estudiantes\")\n",
        "else:\n",
        "    print(\"Son muchos estudiantes\", end=\". \")\n",
        "    print(\"Ojalá no entren oyentes\")"
      ]
    },
    {
      "cell_type": "markdown",
      "metadata": {
        "id": "TpzYjDR3Dohg"
      },
      "source": [
        "### `for`\n",
        "\n"
      ]
    },
    {
      "cell_type": "code",
      "execution_count": 14,
      "metadata": {
        "colab": {
          "base_uri": "https://localhost:8080/"
        },
        "id": "FdLU1XOJDohh",
        "outputId": "4b862bcc-05b6-4026-aab3-8bdcd1a0cbd9"
      },
      "outputs": [
        {
          "output_type": "stream",
          "name": "stdout",
          "text": [
            "Hola Yadira ¿Cómo estás?\n",
            "Hola Alejandro ¿Cómo estás?\n",
            "Hola Eduardo ¿Cómo estás?\n",
            "Hola Samuel ¿Cómo estás?\n",
            "Hola Maria ¿Cómo estás?\n",
            "Hola Panfilo ¿Cómo estás?\n",
            "Hola Carlos ¿Cómo estás?\n",
            "Hola Cesar ¿Cómo estás?\n"
          ]
        }
      ],
      "source": [
        "for estudiante in estudiantes:\n",
        "    print(\"Hola\", estudiante, \"¿Cómo estás?\")"
      ]
    },
    {
      "cell_type": "code",
      "execution_count": 15,
      "metadata": {
        "colab": {
          "base_uri": "https://localhost:8080/"
        },
        "id": "-2TflcR5Dohh",
        "outputId": "7ef3f73f-90a9-4230-fc93-21f73e7e304e"
      },
      "outputs": [
        {
          "output_type": "stream",
          "name": "stdout",
          "text": [
            "Hola Yadira\n",
            "Hola Alejandro\n",
            "Hola Eduardo\n",
            "Hola Samuel\n",
            "Hola Maria\n",
            "Hola Panfilo\n",
            "Hola Carlos\n",
            "Hola Cesar\n"
          ]
        }
      ],
      "source": [
        "for i in range(len(estudiantes)):\n",
        "    print(\"Hola\", estudiantes[i])"
      ]
    },
    {
      "cell_type": "code",
      "execution_count": 31,
      "metadata": {
        "colab": {
          "base_uri": "https://localhost:8080/"
        },
        "id": "nCHDZ4QMDohi",
        "outputId": "6a42caad-36fe-436d-953c-f23a9488049b"
      },
      "outputs": [
        {
          "output_type": "stream",
          "name": "stdout",
          "text": [
            "5\n",
            "3\n",
            "1\n",
            "-1\n"
          ]
        }
      ],
      "source": [
        "for j in range(5, -3, -2):\n",
        "    print(j)\n",
        "    if j == 0:\n",
        "        print(\"Booom\")\n",
        ""
      ]
    },
    {
      "cell_type": "code",
      "source": [
        "list(range(3, 7))"
      ],
      "metadata": {
        "colab": {
          "base_uri": "https://localhost:8080/"
        },
        "id": "3HqV5qrzHFu3",
        "outputId": "1821b25b-48f7-44be-890a-21ce7dea147e"
      },
      "execution_count": 35,
      "outputs": [
        {
          "output_type": "execute_result",
          "data": {
            "text/plain": [
              "[3, 4, 5, 6]"
            ]
          },
          "metadata": {},
          "execution_count": 35
        }
      ]
    },
    {
      "cell_type": "markdown",
      "source": [
        "range(a, b, c) donde \"a\" es el valor en el que se comienza, \"b\" es el valor en donde se detiene y \"c\" es el valor en que da los pasos.\n",
        "\n"
      ],
      "metadata": {
        "id": "W7dOlZ-lHo_s"
      }
    },
    {
      "cell_type": "code",
      "source": [
        "list(range(5, -3, -2))"
      ],
      "metadata": {
        "colab": {
          "base_uri": "https://localhost:8080/"
        },
        "id": "PpvzLJpxHh8G",
        "outputId": "74cfda9e-47cf-4d0f-c2e5-af40621aab1b"
      },
      "execution_count": 36,
      "outputs": [
        {
          "output_type": "execute_result",
          "data": {
            "text/plain": [
              "[5, 3, 1, -1]"
            ]
          },
          "metadata": {},
          "execution_count": 36
        }
      ]
    },
    {
      "cell_type": "code",
      "execution_count": 19,
      "metadata": {
        "colab": {
          "base_uri": "https://localhost:8080/"
        },
        "id": "lrOKq_FBDohi",
        "outputId": "892cce14-4b30-4b64-8480-91a26e64c1a6"
      },
      "outputs": [
        {
          "output_type": "execute_result",
          "data": {
            "text/plain": [
              "range(0, 7897987978979779878979797987987979779797979)"
            ]
          },
          "metadata": {},
          "execution_count": 19
        }
      ],
      "source": [
        "range(7897987978979779878979797987987979779797979)"
      ]
    },
    {
      "cell_type": "markdown",
      "metadata": {
        "id": "poSK77q2Dohj"
      },
      "source": [
        "La suma de todos los números del 1 al 100.\n",
        "\n"
      ]
    },
    {
      "cell_type": "code",
      "execution_count": 37,
      "metadata": {
        "colab": {
          "base_uri": "https://localhost:8080/"
        },
        "id": "v26vbYf-Dohj",
        "outputId": "f7e7d689-df62-421e-a3a7-d32b02eb3887"
      },
      "outputs": [
        {
          "output_type": "execute_result",
          "data": {
            "text/plain": [
              "5050"
            ]
          },
          "metadata": {},
          "execution_count": 37
        }
      ],
      "source": [
        "sum(range(101))"
      ]
    },
    {
      "cell_type": "markdown",
      "metadata": {
        "id": "OAfqDfjNDohj"
      },
      "source": [
        "### break, continue y else en ciclos for\n",
        "\n"
      ]
    },
    {
      "cell_type": "markdown",
      "metadata": {
        "id": "xtZ9S-UXDohj"
      },
      "source": [
        "#### break\n",
        "\n"
      ]
    },
    {
      "cell_type": "markdown",
      "metadata": {
        "id": "9eiUVNYODohj"
      },
      "source": [
        "`break` sirve para interrumpir un ciclo for.\n",
        "\n"
      ]
    },
    {
      "cell_type": "code",
      "execution_count": 43,
      "metadata": {
        "colab": {
          "base_uri": "https://localhost:8080/"
        },
        "id": "35zyKK_EDohj",
        "outputId": "92a611c9-114d-414b-f7b3-697a6554c4c4"
      },
      "outputs": [
        {
          "output_type": "stream",
          "name": "stdout",
          "text": [
            "Hola Yadira ¿Cómo estás?\n",
            "Hola Alejandro ¿Cómo estás?\n",
            "Hola Eduardo ¿Cómo estás?\n",
            "Ya saludé a los inscritos\n"
          ]
        }
      ],
      "source": [
        "for estudiante in estudiantes:\n",
        "    print(\"Hola\", estudiante, \"¿Cómo estás?\")\n",
        "    if estudiante == \"Eduardo\":\n",
        "        break\n",
        "\n",
        "print(\"Ya saludé a los inscritos\")"
      ]
    },
    {
      "cell_type": "markdown",
      "metadata": {
        "id": "BrYQHZfBDohk"
      },
      "source": [
        "#### else en un ciclo for\n",
        "\n"
      ]
    },
    {
      "cell_type": "markdown",
      "metadata": {
        "id": "i-0fq34ZDohk"
      },
      "source": [
        "La cláusula `else` en un ciclo `for` se ejecuta cuando el ciclo `for` termina de manera \"natural\", sin haber pasado por una cláusula `break`.\n",
        "\n"
      ]
    },
    {
      "cell_type": "code",
      "execution_count": 45,
      "metadata": {
        "colab": {
          "base_uri": "https://localhost:8080/"
        },
        "id": "vPVUrbtLDohk",
        "outputId": "30677ede-68ce-4732-990b-7271810cdec8"
      },
      "outputs": [
        {
          "output_type": "stream",
          "name": "stdout",
          "text": [
            "2 es un número primo\n",
            "3 es un número primo\n",
            "4 es igual a 2 * 2\n",
            "5 es un número primo\n",
            "6 es igual a 2 * 3\n",
            "7 es un número primo\n",
            "8 es igual a 2 * 4\n",
            "9 es igual a 3 * 3\n",
            "10 es igual a 2 * 5\n",
            "11 es un número primo\n",
            "12 es igual a 2 * 6\n",
            "13 es un número primo\n",
            "14 es igual a 2 * 7\n",
            "15 es igual a 3 * 5\n",
            "16 es igual a 2 * 8\n",
            "17 es un número primo\n",
            "18 es igual a 2 * 9\n",
            "19 es un número primo\n",
            "20 es igual a 2 * 10\n",
            "21 es igual a 3 * 7\n",
            "22 es igual a 2 * 11\n",
            "23 es un número primo\n",
            "24 es igual a 2 * 12\n",
            "25 es igual a 5 * 5\n",
            "26 es igual a 2 * 13\n",
            "27 es igual a 3 * 9\n",
            "28 es igual a 2 * 14\n",
            "29 es un número primo\n",
            "30 es igual a 2 * 15\n",
            "31 es un número primo\n",
            "32 es igual a 2 * 16\n",
            "33 es igual a 3 * 11\n",
            "34 es igual a 2 * 17\n",
            "35 es igual a 5 * 7\n",
            "36 es igual a 2 * 18\n",
            "37 es un número primo\n",
            "38 es igual a 2 * 19\n",
            "39 es igual a 3 * 13\n",
            "40 es igual a 2 * 20\n",
            "41 es un número primo\n",
            "42 es igual a 2 * 21\n",
            "43 es un número primo\n",
            "44 es igual a 2 * 22\n",
            "45 es igual a 3 * 15\n",
            "46 es igual a 2 * 23\n",
            "47 es un número primo\n",
            "48 es igual a 2 * 24\n",
            "49 es igual a 7 * 7\n",
            "50 es igual a 2 * 25\n",
            "51 es igual a 3 * 17\n",
            "52 es igual a 2 * 26\n",
            "53 es un número primo\n",
            "54 es igual a 2 * 27\n",
            "55 es igual a 5 * 11\n",
            "56 es igual a 2 * 28\n",
            "57 es igual a 3 * 19\n",
            "58 es igual a 2 * 29\n",
            "59 es un número primo\n",
            "60 es igual a 2 * 30\n",
            "61 es un número primo\n",
            "62 es igual a 2 * 31\n",
            "63 es igual a 3 * 21\n",
            "64 es igual a 2 * 32\n",
            "65 es igual a 5 * 13\n",
            "66 es igual a 2 * 33\n",
            "67 es un número primo\n",
            "68 es igual a 2 * 34\n",
            "69 es igual a 3 * 23\n",
            "70 es igual a 2 * 35\n",
            "71 es un número primo\n",
            "72 es igual a 2 * 36\n",
            "73 es un número primo\n",
            "74 es igual a 2 * 37\n",
            "75 es igual a 3 * 25\n",
            "76 es igual a 2 * 38\n",
            "77 es igual a 7 * 11\n",
            "78 es igual a 2 * 39\n",
            "79 es un número primo\n",
            "80 es igual a 2 * 40\n",
            "81 es igual a 3 * 27\n",
            "82 es igual a 2 * 41\n",
            "83 es un número primo\n",
            "84 es igual a 2 * 42\n",
            "85 es igual a 5 * 17\n",
            "86 es igual a 2 * 43\n",
            "87 es igual a 3 * 29\n",
            "88 es igual a 2 * 44\n",
            "89 es un número primo\n",
            "90 es igual a 2 * 45\n",
            "91 es igual a 7 * 13\n",
            "92 es igual a 2 * 46\n",
            "93 es igual a 3 * 31\n",
            "94 es igual a 2 * 47\n",
            "95 es igual a 5 * 19\n",
            "96 es igual a 2 * 48\n",
            "97 es un número primo\n",
            "98 es igual a 2 * 49\n",
            "99 es igual a 3 * 33\n"
          ]
        }
      ],
      "source": [
        "for n in range(2, 100):\n",
        "    for x in range(2, n):\n",
        "        if n % x == 0:\n",
        "            print(n, 'es igual a', x, '*', n//x)\n",
        "            break\n",
        "    else:\n",
        "        # se terminó de checar posibles divisores sin encontrar uno\n",
        "        print(n, 'es un número primo')"
      ]
    },
    {
      "cell_type": "markdown",
      "metadata": {
        "id": "0lDohE0wDohl"
      },
      "source": [
        "#### continue\n",
        "Realiza algo similar que el `break` pero no de forma tan drastica, este no hace un paron tan drastico(salirse del `for`) unicamente hasta que salga se termine la condicion propuesta.\n"
      ]
    },
    {
      "cell_type": "code",
      "execution_count": 52,
      "metadata": {
        "colab": {
          "base_uri": "https://localhost:8080/"
        },
        "id": "4oglGu4lDohl",
        "outputId": "62c7ab7d-50c2-4122-db6a-5085d17a6640"
      },
      "outputs": [
        {
          "output_type": "stream",
          "name": "stdout",
          "text": [
            "Hola Yadira ¿Cómo estás?\n",
            "¿Qué materias estás llevando, Yadira ?\n",
            "Hola Alejandro ¿Cómo estás?\n",
            "¿Qué materias estás llevando, Alejandro ?\n",
            "Hola Eduardo ¿Cómo estás?\n",
            "Hola Samuel ¿Cómo estás?\n",
            "¿Qué materias estás llevando, Samuel ?\n",
            "Hola Maria ¿Cómo estás?\n",
            "Hola Panfilo ¿Cómo estás?\n",
            "¿Qué materias estás llevando, Panfilo ?\n",
            "Hola Carlos ¿Cómo estás?\n",
            "¿Qué materias estás llevando, Carlos ?\n",
            "Hola Cesar ¿Cómo estás?\n",
            "¿Qué materias estás llevando, Cesar ?\n"
          ]
        }
      ],
      "source": [
        "for estudiante in estudiantes:\n",
        "    print(\"Hola\", estudiante, \"¿Cómo estás?\")\n",
        "    if estudiante in [\"Eduardo\", \"Maria\"]:\n",
        "        continue\n",
        "    print(\"¿Qué materias estás llevando,\", estudiante,\"?\")"
      ]
    },
    {
      "cell_type": "markdown",
      "metadata": {
        "id": "tPrEwcEoDohl"
      },
      "source": [
        "#### pass\n",
        "\n"
      ]
    },
    {
      "cell_type": "markdown",
      "metadata": {
        "id": "PUBPo_-WDohm"
      },
      "source": [
        "La claúsula `pass` no hace nada, pero puede servir para que un programa incompleto sea sintácticamente correcto.\n",
        "\n"
      ]
    },
    {
      "cell_type": "code",
      "execution_count": 57,
      "metadata": {
        "colab": {
          "base_uri": "https://localhost:8080/"
        },
        "id": "sXricd7hDohm",
        "outputId": "ceb7f6fb-675b-43af-892b-ff247014e489"
      },
      "outputs": [
        {
          "output_type": "stream",
          "name": "stdout",
          "text": [
            "Hola Yadira ¿Cómo estás?\n",
            "Hola Alejandro ¿Cómo estás?\n",
            "Hola Eduardo ¿Cómo estás?\n",
            "Hola Samuel ¿Cómo estás?\n",
            "Hola Maria ¿Cómo estás?\n",
            "Hola Panfilo ¿Cómo estás?\n",
            "Hola Carlos ¿Cómo estás?\n",
            "Hola Cesar ¿Cómo estás?\n"
          ]
        }
      ],
      "source": [
        "for estudiante in estudiantes:\n",
        "    print(\"Hola\", estudiante, \"¿Cómo estás?\")\n",
        "    if estudiante in [\"Uriel\", \"Ruth\"]:\n",
        "        pass"
      ]
    },
    {
      "cell_type": "code",
      "execution_count": 59,
      "metadata": {
        "colab": {
          "base_uri": "https://localhost:8080/"
        },
        "id": "mk--7n7LDohm",
        "outputId": "2784db35-9d42-4e4e-c2b0-f7757bc565b9"
      },
      "outputs": [
        {
          "output_type": "stream",
          "name": "stdout",
          "text": [
            "Hola Yadira ¿Cómo estás?\n",
            "Hola Alejandro ¿Cómo estás?\n",
            "Hola Eduardo ¿Cómo estás?\n",
            "Hola Eduardo ¿Eres oyente?\n",
            "Hola Samuel ¿Cómo estás?\n",
            "Hola Maria ¿Cómo estás?\n",
            "Hola Panfilo ¿Cómo estás?\n",
            "Hola Panfilo ¿Eres oyente?\n",
            "Hola Carlos ¿Cómo estás?\n",
            "Hola Cesar ¿Cómo estás?\n"
          ]
        }
      ],
      "source": [
        "for estudiante in estudiantes:\n",
        "    print(\"Hola\", estudiante, \"¿Cómo estás?\")\n",
        "    if estudiante in [\"Eduardo\", \"Panfilo\"]:\n",
        "        print(\"Hola\", estudiante, \"¿Eres oyente?\")"
      ]
    }
  ],
  "metadata": {
    "kernelspec": {
      "display_name": "Python 3",
      "language": "python",
      "name": "python3"
    },
    "language_info": {
      "codemirror_mode": {
        "name": "ipython",
        "version": 3
      },
      "file_extension": ".py",
      "mimetype": "text/x-python",
      "name": "python",
      "nbconvert_exporter": "python",
      "pygments_lexer": "ipython3",
      "version": "3.9.2"
    },
    "org": null,
    "colab": {
      "provenance": [],
      "include_colab_link": true
    }
  },
  "nbformat": 4,
  "nbformat_minor": 0
}